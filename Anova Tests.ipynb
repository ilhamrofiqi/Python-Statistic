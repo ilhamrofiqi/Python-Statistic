{
 "cells": [
  {
   "cell_type": "markdown",
   "id": "38d952d0-7c41-48be-aa94-be6ea012ad1c",
   "metadata": {},
   "source": [
    "# Anova Tests\n",
    "\n",
    "ANOVA (Analysis of Variance) Tests adalah kumpulan uji statistik yang digunakan untuk menganalisis perbedaan antara rata-rata dari dua atau lebih kelompok. Meskipun namanya \"Analysis of Variance,\" tujuan utamanya adalah untuk menguji perbedaan rata-rata. Ia melakukannya dengan memeriksa varians dalam data.\n",
    "\n",
    "Periksa apakah rata-rata bobot tanaman di bawah kondisi kontrol dan 2 kondisi perlakuan yang berbeda secara signifikan serupa atau berbeda."
   ]
  },
  {
   "cell_type": "code",
   "execution_count": 6,
   "id": "864030bf-9a33-4525-a964-5013c661ef3d",
   "metadata": {},
   "outputs": [
    {
     "data": {
      "text/plain": [
       "(1460, 81)"
      ]
     },
     "execution_count": 6,
     "metadata": {},
     "output_type": "execute_result"
    }
   ],
   "source": [
    "import numpy as np\n",
    "import pandas as pd\n",
    "from scipy import stats\n",
    "\n",
    "data = pd.read_csv('train.csv')\n",
    "data.shape"
   ]
  },
  {
   "cell_type": "code",
   "execution_count": 7,
   "id": "45992df3-e59f-4f56-9f77-00a1a4074ad9",
   "metadata": {},
   "outputs": [
    {
     "data": {
      "text/plain": [
       "F_onewayResult(statistic=np.float64(4.846087862380136), pvalue=np.float64(0.015909958325622895))"
      ]
     },
     "execution_count": 7,
     "metadata": {},
     "output_type": "execute_result"
    }
   ],
   "source": [
    "# Membuat 3 list: control, treatment1, dan treatment2\n",
    "ctrl = [4.17, 5.58, 5.18, 6.11, 4.5, 4.61, 5.17, 4.53, 5.33, 5.14]\n",
    "trt1 = [4.81, 4.17, 4.41, 3.59, 5.87, 3.83, 6.03, 4.89, 4.32, 4.69]\n",
    "trt2 = [6.31, 5.12, 5.54, 5.5, 5.37, 5.29, 4.92, 6.15, 5.8, 5.26]\n",
    "\n",
    "# Melakukan uji ANOVA satu arah\n",
    "stats.f_oneway(ctrl, trt1, trt2)"
   ]
  },
  {
   "cell_type": "markdown",
   "id": "d90ef576-f1b5-4c09-80d8-7a6ebc783ade",
   "metadata": {},
   "source": [
    "nilai-p=0.015 <0.05 Jadi, kami menolak hipotesis nol.\n",
    "\n",
    "Oleh karena itu, kami menyimpulkan bahwa ada perbedaan signifikan antara rata-rata bobot tanaman kering di bawah kontrol dan 2 kondisi perlakuan yang berbeda."
   ]
  },
  {
   "cell_type": "code",
   "execution_count": 8,
   "id": "982ea61f-4fd8-479b-96fa-8eb8507c9249",
   "metadata": {},
   "outputs": [
    {
     "name": "stdout",
     "output_type": "stream",
     "text": [
      "P-value untuk signifikansi adalah: 0.0\n",
      "Tolak hipotesis nol\n"
     ]
    }
   ],
   "source": [
    "import statsmodels.api as sm\n",
    "from statsmodels.formula.api import ols\n",
    "\n",
    "# Melakukan One-Way ANOVA menggunakan fungsi f_oneway dari scipy.stats\n",
    "# Membandingkan variabel 'SalePrice' berdasarkan kategori 'OverallCond'\n",
    "F, p = stats.f_oneway(data['SalePrice'], data['OverallCond'])\n",
    "\n",
    "# Menampilkan nilai p-value\n",
    "print(\"P-value untuk signifikansi adalah:\", p)\n",
    "\n",
    "# Menentukan apakah akan menolak hipotesis nol berdasarkan p-value\n",
    "if p < 0.05:\n",
    "    print(\"Tolak hipotesis nol\")\n",
    "else:\n",
    "    print(\"Terima hipotesis nol\")"
   ]
  },
  {
   "cell_type": "code",
   "execution_count": null,
   "id": "10510c9b-46f0-4485-ab0f-a37f64b7a4bf",
   "metadata": {},
   "outputs": [],
   "source": []
  }
 ],
 "metadata": {
  "kernelspec": {
   "display_name": "Python 3 (ipykernel)",
   "language": "python",
   "name": "python3"
  },
  "language_info": {
   "codemirror_mode": {
    "name": "ipython",
    "version": 3
   },
   "file_extension": ".py",
   "mimetype": "text/x-python",
   "name": "python",
   "nbconvert_exporter": "python",
   "pygments_lexer": "ipython3",
   "version": "3.13.2"
  }
 },
 "nbformat": 4,
 "nbformat_minor": 5
}
