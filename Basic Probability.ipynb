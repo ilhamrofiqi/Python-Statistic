{
 "cells": [
  {
   "cell_type": "markdown",
   "id": "449493f1-3a66-48aa-ad92-96be99c89c48",
   "metadata": {},
   "source": [
    "# Basic Probability\n",
    "\n",
    "Probabilitas adalah cabang matematika yang mengukur tingkat kemungkinan terjadinya suatu peristiwa atau kejadian. Nilai probabilitas berkisar antara 0 dan 1.\n",
    "- 0 (nol) menunjukkan bahwa suatu peristiwa tidak mungkin terjadi.\n",
    "- 1 (satu) menunjukkan bahwa suatu peristiwa pasti terjadi."
   ]
  },
  {
   "cell_type": "code",
   "execution_count": 1,
   "id": "b55ee547-0c10-4eb2-b39b-9c52a1fcf249",
   "metadata": {},
   "outputs": [
    {
     "data": {
      "text/html": [
       "<div>\n",
       "<style scoped>\n",
       "    .dataframe tbody tr th:only-of-type {\n",
       "        vertical-align: middle;\n",
       "    }\n",
       "\n",
       "    .dataframe tbody tr th {\n",
       "        vertical-align: top;\n",
       "    }\n",
       "\n",
       "    .dataframe thead th {\n",
       "        text-align: right;\n",
       "    }\n",
       "</style>\n",
       "<table border=\"1\" class=\"dataframe\">\n",
       "  <thead>\n",
       "    <tr style=\"text-align: right;\">\n",
       "      <th></th>\n",
       "      <th>id</th>\n",
       "      <th>season</th>\n",
       "      <th>city</th>\n",
       "      <th>date</th>\n",
       "      <th>team1</th>\n",
       "      <th>team2</th>\n",
       "      <th>toss_winner</th>\n",
       "      <th>toss_decision</th>\n",
       "      <th>result</th>\n",
       "      <th>dl_applied</th>\n",
       "      <th>winner</th>\n",
       "      <th>win_by_runs</th>\n",
       "      <th>win_by_wickets</th>\n",
       "      <th>player_of_match</th>\n",
       "      <th>venue</th>\n",
       "      <th>umpire1</th>\n",
       "      <th>umpire2</th>\n",
       "      <th>umpire3</th>\n",
       "    </tr>\n",
       "  </thead>\n",
       "  <tbody>\n",
       "    <tr>\n",
       "      <th>0</th>\n",
       "      <td>1</td>\n",
       "      <td>2017</td>\n",
       "      <td>Hyderabad</td>\n",
       "      <td>5/4/2017</td>\n",
       "      <td>Sunrisers Hyderabad</td>\n",
       "      <td>Royal Challengers Bangalore</td>\n",
       "      <td>Royal Challengers Bangalore</td>\n",
       "      <td>field</td>\n",
       "      <td>normal</td>\n",
       "      <td>0</td>\n",
       "      <td>Sunrisers Hyderabad</td>\n",
       "      <td>35</td>\n",
       "      <td>0</td>\n",
       "      <td>Yuvraj Singh</td>\n",
       "      <td>Rajiv Gandhi International Stadium, Uppal</td>\n",
       "      <td>AY Dandekar</td>\n",
       "      <td>NJ Llong</td>\n",
       "      <td>NaN</td>\n",
       "    </tr>\n",
       "    <tr>\n",
       "      <th>1</th>\n",
       "      <td>2</td>\n",
       "      <td>2017</td>\n",
       "      <td>Pune</td>\n",
       "      <td>6/4/2017</td>\n",
       "      <td>Mumbai Indians</td>\n",
       "      <td>Rising Pune Supergiant</td>\n",
       "      <td>Rising Pune Supergiant</td>\n",
       "      <td>field</td>\n",
       "      <td>normal</td>\n",
       "      <td>0</td>\n",
       "      <td>Rising Pune Supergiant</td>\n",
       "      <td>0</td>\n",
       "      <td>7</td>\n",
       "      <td>SPD Smith</td>\n",
       "      <td>Maharashtra Cricket Association Stadium</td>\n",
       "      <td>A Nand Kishore</td>\n",
       "      <td>S Ravi</td>\n",
       "      <td>NaN</td>\n",
       "    </tr>\n",
       "    <tr>\n",
       "      <th>2</th>\n",
       "      <td>3</td>\n",
       "      <td>2017</td>\n",
       "      <td>Rajkot</td>\n",
       "      <td>7/4/2017</td>\n",
       "      <td>Gujarat Lions</td>\n",
       "      <td>Kolkata Knight Riders</td>\n",
       "      <td>Kolkata Knight Riders</td>\n",
       "      <td>field</td>\n",
       "      <td>normal</td>\n",
       "      <td>0</td>\n",
       "      <td>Kolkata Knight Riders</td>\n",
       "      <td>0</td>\n",
       "      <td>10</td>\n",
       "      <td>CA Lynn</td>\n",
       "      <td>Saurashtra Cricket Association Stadium</td>\n",
       "      <td>Nitin Menon</td>\n",
       "      <td>CK Nandan</td>\n",
       "      <td>NaN</td>\n",
       "    </tr>\n",
       "    <tr>\n",
       "      <th>3</th>\n",
       "      <td>4</td>\n",
       "      <td>2017</td>\n",
       "      <td>Indore</td>\n",
       "      <td>8/4/2017</td>\n",
       "      <td>Rising Pune Supergiant</td>\n",
       "      <td>Kings XI Punjab</td>\n",
       "      <td>Kings XI Punjab</td>\n",
       "      <td>field</td>\n",
       "      <td>normal</td>\n",
       "      <td>0</td>\n",
       "      <td>Kings XI Punjab</td>\n",
       "      <td>0</td>\n",
       "      <td>6</td>\n",
       "      <td>GJ Maxwell</td>\n",
       "      <td>Holkar Cricket Stadium</td>\n",
       "      <td>AK Chaudhary</td>\n",
       "      <td>C Shamshuddin</td>\n",
       "      <td>NaN</td>\n",
       "    </tr>\n",
       "    <tr>\n",
       "      <th>4</th>\n",
       "      <td>5</td>\n",
       "      <td>2017</td>\n",
       "      <td>Bangalore</td>\n",
       "      <td>8/4/2017</td>\n",
       "      <td>Royal Challengers Bangalore</td>\n",
       "      <td>Delhi Daredevils</td>\n",
       "      <td>Royal Challengers Bangalore</td>\n",
       "      <td>bat</td>\n",
       "      <td>normal</td>\n",
       "      <td>0</td>\n",
       "      <td>Royal Challengers Bangalore</td>\n",
       "      <td>15</td>\n",
       "      <td>0</td>\n",
       "      <td>KM Jadhav</td>\n",
       "      <td>M Chinnaswamy Stadium</td>\n",
       "      <td>NaN</td>\n",
       "      <td>NaN</td>\n",
       "      <td>NaN</td>\n",
       "    </tr>\n",
       "  </tbody>\n",
       "</table>\n",
       "</div>"
      ],
      "text/plain": [
       "   id  season       city      date                        team1  \\\n",
       "0   1    2017  Hyderabad  5/4/2017          Sunrisers Hyderabad   \n",
       "1   2    2017       Pune  6/4/2017               Mumbai Indians   \n",
       "2   3    2017     Rajkot  7/4/2017                Gujarat Lions   \n",
       "3   4    2017     Indore  8/4/2017       Rising Pune Supergiant   \n",
       "4   5    2017  Bangalore  8/4/2017  Royal Challengers Bangalore   \n",
       "\n",
       "                         team2                  toss_winner toss_decision  \\\n",
       "0  Royal Challengers Bangalore  Royal Challengers Bangalore         field   \n",
       "1       Rising Pune Supergiant       Rising Pune Supergiant         field   \n",
       "2        Kolkata Knight Riders        Kolkata Knight Riders         field   \n",
       "3              Kings XI Punjab              Kings XI Punjab         field   \n",
       "4             Delhi Daredevils  Royal Challengers Bangalore           bat   \n",
       "\n",
       "   result  dl_applied                       winner  win_by_runs  \\\n",
       "0  normal           0          Sunrisers Hyderabad           35   \n",
       "1  normal           0       Rising Pune Supergiant            0   \n",
       "2  normal           0        Kolkata Knight Riders            0   \n",
       "3  normal           0              Kings XI Punjab            0   \n",
       "4  normal           0  Royal Challengers Bangalore           15   \n",
       "\n",
       "   win_by_wickets player_of_match                                      venue  \\\n",
       "0               0    Yuvraj Singh  Rajiv Gandhi International Stadium, Uppal   \n",
       "1               7       SPD Smith    Maharashtra Cricket Association Stadium   \n",
       "2              10         CA Lynn     Saurashtra Cricket Association Stadium   \n",
       "3               6      GJ Maxwell                     Holkar Cricket Stadium   \n",
       "4               0       KM Jadhav                      M Chinnaswamy Stadium   \n",
       "\n",
       "          umpire1        umpire2  umpire3  \n",
       "0     AY Dandekar       NJ Llong      NaN  \n",
       "1  A Nand Kishore         S Ravi      NaN  \n",
       "2     Nitin Menon      CK Nandan      NaN  \n",
       "3    AK Chaudhary  C Shamshuddin      NaN  \n",
       "4             NaN            NaN      NaN  "
      ]
     },
     "execution_count": 1,
     "metadata": {},
     "output_type": "execute_result"
    }
   ],
   "source": [
    "import pandas as pd\n",
    "import numpy as np\n",
    "import scipy.stats as stats\n",
    "\n",
    "\n",
    "df = pd.read_csv(\"matches.csv\")\n",
    "df.head(5)"
   ]
  },
  {
   "cell_type": "code",
   "execution_count": 2,
   "id": "83ba8f0e-f3cd-47c8-8a09-eb16b45d1679",
   "metadata": {},
   "outputs": [
    {
     "data": {
      "text/plain": [
       "Index(['id', 'season', 'city', 'date', 'team1', 'team2', 'toss_winner',\n",
       "       'toss_decision', 'result', 'dl_applied', 'winner', 'win_by_runs',\n",
       "       'win_by_wickets', 'player_of_match', 'venue', 'umpire1', 'umpire2',\n",
       "       'umpire3'],\n",
       "      dtype='object')"
      ]
     },
     "execution_count": 2,
     "metadata": {},
     "output_type": "execute_result"
    }
   ],
   "source": [
    "# checking the columns present in the data\n",
    "df.columns"
   ]
  },
  {
   "cell_type": "markdown",
   "id": "e757513d-af27-4a3b-8714-d3a33e5637f4",
   "metadata": {},
   "source": [
    "### Calculating the probability of a team winning a match"
   ]
  },
  {
   "cell_type": "code",
   "execution_count": 3,
   "id": "3ac4ad1e-88f8-4777-8fcf-41c1054477f5",
   "metadata": {},
   "outputs": [
    {
     "name": "stdout",
     "output_type": "stream",
     "text": [
      "Total Match: 636\n",
      "Total Wins: 636\n",
      "Probability of Mumbai Indians winning a matches: 14.47%\n"
     ]
    }
   ],
   "source": [
    "# Total number of matches\n",
    "total_matches = len(df)\n",
    "print(f\"Total Match: {total_matches}\")\n",
    "\n",
    "# Number of matches won by Mumbai Indians\n",
    "team_wins = len(df[df['winner'] == 'Mumbai Indians'])\n",
    "print(f\"Total Wins: {total_matches}\")\n",
    "\n",
    "probability = team_wins / total_matches\n",
    "print('Probability of Mumbai Indians winning a matches:{0: .2f}%'.format(probability*100))"
   ]
  },
  {
   "cell_type": "markdown",
   "id": "07b49c97-1143-4cf6-9e4d-5a380dfbb2df",
   "metadata": {},
   "source": [
    "### Calculating the probability distribution of toss results"
   ]
  },
  {
   "cell_type": "code",
   "execution_count": 4,
   "id": "21e4cb24-d936-4f5a-b5a4-2e9a8b406356",
   "metadata": {},
   "outputs": [
    {
     "name": "stdout",
     "output_type": "stream",
     "text": [
      "Probabilitiy distribution of toss results:\n",
      "toss_winner\n",
      "Mumbai Indians                 13.36\n",
      "Kolkata Knight Riders          12.26\n",
      "Delhi Daredevils               11.32\n",
      "Royal Challengers Bangalore    11.01\n",
      "Kings XI Punjab                10.69\n",
      "Chennai Super Kings            10.38\n",
      "Rajasthan Royals                9.91\n",
      "Deccan Chargers                 6.76\n",
      "Sunrisers Hyderabad             5.50\n",
      "Pune Warriors                   3.14\n",
      "Gujarat Lions                   2.36\n",
      "Kochi Tuskers Kerala            1.26\n",
      "Rising Pune Supergiants         1.10\n",
      "Rising Pune Supergiant          0.94\n",
      "Name: count, dtype: float64\n"
     ]
    }
   ],
   "source": [
    "# Count of each team winning the toss\n",
    "toss_counts = df['toss_winner'].value_counts()\n",
    "\n",
    "# Total number of matchs\n",
    "total_matchs = len(df)\n",
    "\n",
    "toss_probability = (toss_counts / total_matches)*100\n",
    "toss_probability = round(toss_probability, 2)\n",
    "print(\"Probabilitiy distribution of toss results:\")\n",
    "print(toss_probability)"
   ]
  },
  {
   "cell_type": "markdown",
   "id": "4216f1e4-2fb6-4407-8511-174859436e33",
   "metadata": {},
   "source": [
    "### Probability of a specific outcome in the toss (e.g., winning the toss and choosing to bat)"
   ]
  },
  {
   "cell_type": "code",
   "execution_count": 5,
   "id": "701bc9b2-2c56-4bcf-bbf3-43e3ec46a4be",
   "metadata": {},
   "outputs": [
    {
     "name": "stdout",
     "output_type": "stream",
     "text": [
      "Probability of Chennai Super Kings choosing to bat after winning the toss: 6.92%\n"
     ]
    }
   ],
   "source": [
    "# Total number of tosses\n",
    "total_tosses = len(df)\n",
    "batting_choice = len(df[(df['toss_winner'] == 'Chennai Super Kings') & (df['toss_decision'] == 'bat')])\n",
    "\n",
    "probability = batting_choice / total_tosses\n",
    "print('Probability of Chennai Super Kings choosing to bat after winning the toss:{0: .2f}%'.format(probability*100))"
   ]
  },
  {
   "cell_type": "markdown",
   "id": "b26e548d-b05c-4a60-a547-005b9de38550",
   "metadata": {},
   "source": [
    "### Probability of a team winning after winning the toss and choosing to field"
   ]
  },
  {
   "cell_type": "code",
   "execution_count": 6,
   "id": "48a7dd79-e97e-4fe5-813a-0274333c6b17",
   "metadata": {},
   "outputs": [
    {
     "name": "stdout",
     "output_type": "stream",
     "text": [
      "Probability of a team winning after winning the toss and choosing to field: 31.60%\n"
     ]
    }
   ],
   "source": [
    "# Total number of matchs\n",
    "total_matches = len(df)\n",
    "toss_field = len(df[(df['toss_decision'] == 'field') & (df['winner'] == df['toss_winner'])])\n",
    "\n",
    "probability = toss_field / total_matches\n",
    "print('Probability of a team winning after winning the toss and choosing to field:{0: .2f}%'.format(probability*100))"
   ]
  },
  {
   "cell_type": "markdown",
   "id": "d6673948-c210-497b-8206-911a8b60ec29",
   "metadata": {},
   "source": [
    "### Probability pf a specificevent occurring in a match (e.g., a player scoring a century):"
   ]
  },
  {
   "cell_type": "code",
   "execution_count": 9,
   "id": "e6d071c1-dd95-44dc-a477-03bebe855bf9",
   "metadata": {},
   "outputs": [
    {
     "name": "stdout",
     "output_type": "stream",
     "text": [
      "Probability of MS Dhoni being the palyer pf the match and scoring a century: 2.04%\n"
     ]
    }
   ],
   "source": [
    "total_matches = len(df)\n",
    "century_matches = len(df[df['player_of_match'] == 'MS Dhoni'])\n",
    "\n",
    "probability = century_matches / total_matches\n",
    "print('Probability of MS Dhoni being the palyer pf the match and scoring a century:{0: .2f}%'.format(probability*100))"
   ]
  },
  {
   "cell_type": "code",
   "execution_count": null,
   "id": "563fff37-2776-46c5-b375-b078415c621b",
   "metadata": {},
   "outputs": [],
   "source": []
  }
 ],
 "metadata": {
  "kernelspec": {
   "display_name": "Python 3 (ipykernel)",
   "language": "python",
   "name": "python3"
  },
  "language_info": {
   "codemirror_mode": {
    "name": "ipython",
    "version": 3
   },
   "file_extension": ".py",
   "mimetype": "text/x-python",
   "name": "python",
   "nbconvert_exporter": "python",
   "pygments_lexer": "ipython3",
   "version": "3.13.2"
  }
 },
 "nbformat": 4,
 "nbformat_minor": 5
}
