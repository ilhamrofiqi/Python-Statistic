{
 "cells": [
  {
   "attachments": {
    "426bd5ae-65f6-4005-809e-68635388d91a.png": {
     "image/png": "[encoded data removed]"
    }
   },
   "cell_type": "markdown",
   "id": "66c6104f-1a1c-4349-a32a-6f0f6d9bf612",
   "metadata": {},
   "source": [
    "# Bayes Theorem\n",
    "\n",
    "Teorema Bayes (Bayes' Theorem) adalah rumus dalam probabilitas yang digunakan untuk menghitung probabilitas bersyarat dari suatu kejadian berdasarkan informasi sebelumnya.\n",
    "\n",
    "Rumus Teorema Bayes:\n",
    "\n",
    "![image.png](attachment:426bd5ae-65f6-4005-809e-68635388d91a.png)\n",
    "\n",
    "Di mana:<br>\n",
    "P(A|B) = Probabilitas A terjadi jika diketahui B terjadi (probabilitas bersyarat).\n",
    "\n",
    "P(B|A) = Probabilitas B terjadi jika diketahui A terjadi.\n",
    "\n",
    "P(A) = Probabilitas A terjadi (probabilitas awal atau prior).\n",
    "\n",
    "P(B) = Probabilitas B terjadi (total probabilitas semua cara B bisa terjadi)."
   ]
  },
  {
   "cell_type": "code",
   "execution_count": null,
   "id": "1a5438a0-eab4-41c4-9a4f-213a4692809d",
   "metadata": {},
   "outputs": [],
   "source": []
  }
 ],
 "metadata": {
  "kernelspec": {
   "display_name": "Python 3 (ipykernel)",
   "language": "python",
   "name": "python3"
  },
  "language_info": {
   "codemirror_mode": {
    "name": "ipython",
    "version": 3
   },
   "file_extension": ".py",
   "mimetype": "text/x-python",
   "name": "python",
   "nbconvert_exporter": "python",
   "pygments_lexer": "ipython3",
   "version": "3.13.2"
  }
 },
 "nbformat": 4,
 "nbformat_minor": 5
}
