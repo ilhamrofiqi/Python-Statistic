{
 "cells": [
  {
   "cell_type": "markdown",
   "id": "2eddc34d-7fc9-4c59-9f7d-1b859cf1ec4f",
   "metadata": {},
   "source": [
    "# Bias dan Variance\n",
    "\n",
    "konsep Bias dan Variance dalam konteks statistik dan pembelajaran mesin. Kedua konsep ini sangat penting dalam mengevaluasi kinerja model dan memahami trade-off yang seringkali terjadi saat membangun model.\n",
    "\n",
    "#### Bias\n",
    "Bias mengacu pada kesalahan sistematis dalam model Anda atau dalam asumsi yang Anda buat. Ini adalah perbedaan antara nilai rata-rata prediksi model Anda dan nilai sebenarnya (true value) yang seharusnya diprediksi.\n",
    "\n",
    "Dampak Bias Tinggi:\n",
    "\n",
    "- Akurasi prediksi yang rendah secara keseluruhan.\n",
    "- Model gagal menangkap pola penting dalam data, sehingga tidak dapat digeneralisasi dengan baik.\n",
    "\n",
    "#### Variance \n",
    "Variance mengacu pada sensitivitas model terhadap fluktuasi kecil dalam data pelatihan. Ini adalah seberapa banyak prediksi model akan berubah jika dilatih pada dataset pelatihan yang berbeda (namun masih berasal dari populasi yang sama). Varian mengukur seberapa tersebarnya prediksi model Anda untuk satu titik data tertentu.\n",
    "\n",
    "Dampak Variance Tinggi:\n",
    "\n",
    "- Kinerja model yang buruk pada data yang belum pernah dilihat (generalisasi yang buruk).\n",
    "- Model terlalu \"sensitif\" terhadap data pelatihan spesifik.\n",
    "\n",
    "#### Bias-Variance Trade-off (Trade-off Bias-Varian)\n",
    "Dalam pengembangan model, terutama dalam pembelajaran mesin (machine learning) dan statistik, Bias-Variance Trade-off adalah salah satu konsep paling fundamental dan kritis untuk dipahami. Ini menjelaskan dilema inheren dalam membangun model: Anda tidak dapat secara bersamaan meminimalkan kedua bias dan varian secara mutlak. Meningkatkan satu cenderung mengorbankan yang lain, dan tujuannya adalah menemukan keseimbangan optimal.\n",
    "\n",
    "Definisi Singkat\n",
    "<br>Bias-Variance Trade-off adalah konsep penting dalam machine learning yang menjelaskan:\n",
    "<br>Bagaimana meningkatkan akurasi model dengan menyeimbangkan dua kesalahan utama:\n",
    "<br>👉 Bias (kesalahan sistematis) dan 👉 Variance (kesalahan karena fluktuasi data).\n",
    "\n",
    "Trade-off-nya:\n",
    "<br>Saat kamu mencoba mengurangi bias dengan membuat model lebih kompleks, sering kali kamu menaikkan variance.\n",
    "Sebaliknya, jika kamu mengurangi variance dengan menyederhanakan model, bias bisa meningkat."
   ]
  },
  {
   "cell_type": "code",
   "execution_count": null,
   "id": "cbd89eb1-aebd-40ca-b5f9-4a91a05a9e39",
   "metadata": {},
   "outputs": [],
   "source": []
  }
 ],
 "metadata": {
  "kernelspec": {
   "display_name": "Python 3 (ipykernel)",
   "language": "python",
   "name": "python3"
  },
  "language_info": {
   "codemirror_mode": {
    "name": "ipython",
    "version": 3
   },
   "file_extension": ".py",
   "mimetype": "text/x-python",
   "name": "python",
   "nbconvert_exporter": "python",
   "pygments_lexer": "ipython3",
   "version": "3.13.2"
  }
 },
 "nbformat": 4,
 "nbformat_minor": 5
}
