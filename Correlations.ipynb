{
 "cells": [
  {
   "cell_type": "markdown",
   "id": "5359625a-0330-4420-982e-9eee02c11664",
   "metadata": {},
   "source": [
    "# Correlations\n",
    "\n",
    "Dalam statistika, korelasi adalah ukuran yang menggambarkan seberapa kuat hubungan antara dua atau lebih variabel. Ini menunjukkan apakah, dan sejauh mana, dua variabel cenderung berubah bersamaan.\n",
    "\n",
    "<b>Memahami Korelasi</b><br>\n",
    "Bayangkan Anda mengamati data tinggi badan dan berat badan sekelompok orang. Jika orang yang lebih tinggi cenderung memiliki berat badan yang lebih banyak, dan orang yang lebih pendek cenderung memiliki berat badan yang lebih sedikit, maka ada korelasi positif antara tinggi badan dan berat badan. Namun, jika Anda mengamati waktu tidur dan tingkat kelelahan, dan semakin banyak seseorang tidur, semakin sedikit mereka merasa lelah, ini akan menunjukkan korelasi negatif.\n",
    "\n",
    "<b>Jenis-jenis Korelasi</b><br>\n",
    "Ada tiga jenis korelasi utama berdasarkan arah hubungannya:\n",
    "\n",
    "- Korelasi Positif: Terjadi ketika satu variabel meningkat, variabel lain juga cenderung meningkat. Contoh: Semakin banyak waktu belajar, semakin tinggi nilai ujian.\n",
    "- Korelasi Negatif: Terjadi ketika satu variabel meningkat, variabel lain cenderung menurun. Contoh: Semakin banyak waktu bermain game, semakin rendah nilai ujian.\n",
    "- Tidak Ada Korelasi (atau Korelasi Nol): Tidak ada hubungan linier yang jelas antara pergerakan dua variabel. Contoh: Tinggi badan seseorang dan jumlah rambut yang dimiliki.\n",
    "\n",
    "<b>Koefisien Korelasi</b><br>\n",
    "Untuk mengukur kekuatan dan arah korelasi, kita menggunakan koefisien korelasi. Koefisien ini biasanya diwakili oleh angka antara -1 hingga +1:\n",
    "\n",
    "- +1: Menunjukkan korelasi positif sempurna. Ini berarti variabel bergerak bersamaan dalam pola yang sangat konsisten.\n",
    "- -1: Menunjukkan korelasi negatif sempurna. Ini berarti variabel bergerak berlawanan arah dalam pola yang sangat konsisten.\n",
    "- 0: Menunjukkan tidak ada korelasi linier. Meskipun tidak ada hubungan linier, mungkin ada hubungan non-linier yang tidak ditangkap oleh koefisien ini.\n",
    "\n",
    "## 3 Jenis koefisien korelasi:\n",
    "\n",
    "<b>1. Koefisien Korelasi Pearson (Product-Moment Correlation Coefficient)</b><br>\n",
    "Korelasi Pearson adalah metode yang paling umum digunakan untuk mengukur kekuatan dan arah hubungan linear antara dua variabel kontinu (interval atau rasio). Ini mengasumsikan bahwa data berdistribusi normal dan hubungan antar variabel dapat digambarkan dengan garis lurus. Koefisien ini sensitif terhadap outlier (nilai ekstrem) dan hanya efektif jika hubungan antar variabel benar-benar linear.<br>\n",
    "Contoh:\n",
    "Mengukur korelasi antara jam belajar siswa dan nilai ujiannya (jika kedua data dianggap interval/rasio dan berdistribusi normal, dan diharapkan ada hubungan linear).\n",
    "\n",
    "<b>2. Koefisien Korelasi Spearman (Spearman's Rank-Order Correlation Coefficient)</b><br>\n",
    "Korelasi Spearman adalah ukuran non-parametrik dari kekuatan dan arah hubungan monotonik antara dua variabel. Alih-alih menggunakan nilai data mentah, korelasi Spearman bekerja dengan peringkat (rank) dari setiap data. Hubungan monotonik berarti bahwa variabel cenderung bergerak ke arah yang sama (naik atau turun) secara keseluruhan, tetapi tidak harus dengan kecepatan yang konstan atau dalam pola linear yang sempurna. Ini lebih fleksibel daripada Pearson karena tidak memerlukan asumsi normalitas atau linearitas yang ketat.\n",
    "<br>Contoh:\n",
    "Mengukur korelasi antara peringkat keindahan (ordinal) yang diberikan oleh juri pada sebuah kontes dan peringkat popularitas (ordinal) kontestan. Atau, korelasi antara tingkat stres (ordinal) dan kinerja kerja (ordinal).\n",
    "\n",
    "<b>3. Koefisien Korelasi Kendall Rank (Kendall's Tau (τ))</b><br>\n",
    "Korelasi Kendall Tau juga merupakan ukuran non-parametrik dari hubungan monotonik antar variabel, mirip dengan Spearman. Namun, metode perhitungannya berbeda dan berfokus pada jumlah \"pasangan konkordan\" (pasangan data yang memiliki urutan yang sama) dan \"pasangan diskordan\" (pasangan data yang memiliki urutan yang berlawanan). Kendall Tau umumnya menghasilkan nilai yang sedikit lebih kecil daripada Spearman untuk set data yang sama.\n",
    "<br>Contoh:\n",
    "Menganalisis kesepakatan antara dua penilai (juri) yang memberikan peringkat pada sejumlah produk, atau korelasi antara tingkat kecemasan (ordinal) sebelum dan sesudah terapi (jika data berpasangan dan ordinal).\n",
    "\n",
    "\n",
    "\n",
    "## Causation\n",
    "kausalitas (causation) adalah konsep yang jauh lebih kuat dan spesifik daripada korelasi. Kausalitas menyatakan bahwa satu peristiwa atau variabel secara langsung menyebabkan peristiwa atau variabel lain terjadi. Dengan kata lain, ada hubungan sebab-akibat (cause-and-effect relationship).\n",
    "\n",
    "<b>Contoh Perbedaan:</b><br>\n",
    "\n",
    "- Korelasi: Jumlah penjualan es krim dan jumlah kasus tenggelam di pantai cenderung meningkat di waktu yang bersamaan. Ini adalah korelasi positif.\n",
    "- Kausalitas: Makan es krim tidak menyebabkan seseorang tenggelam. Kenaikan suhu (variabel ketiga/faktor pengganggu) adalah penyebab dari keduanya: orang lebih banyak makan es krim saat panas, dan orang lebih banyak berenang (dan berisiko tenggelam) saat panas.\n"
   ]
  },
  {
   "cell_type": "code",
   "execution_count": null,
   "id": "2148d1ea-fe14-4011-9b4b-f4e38a9eb9dc",
   "metadata": {},
   "outputs": [],
   "source": []
  }
 ],
 "metadata": {
  "kernelspec": {
   "display_name": "Python 3 (ipykernel)",
   "language": "python",
   "name": "python3"
  },
  "language_info": {
   "codemirror_mode": {
    "name": "ipython",
    "version": 3
   },
   "file_extension": ".py",
   "mimetype": "text/x-python",
   "name": "python",
   "nbconvert_exporter": "python",
   "pygments_lexer": "ipython3",
   "version": "3.13.2"
  }
 },
 "nbformat": 4,
 "nbformat_minor": 5
}
