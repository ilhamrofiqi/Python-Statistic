{
 "cells": [
  {
   "cell_type": "markdown",
   "id": "2a4589dc-8769-4039-83ee-0aae4748d99b",
   "metadata": {},
   "source": [
    "# Hypothesis Testing\n",
    "\n",
    "Hypothesis testing adalah metode statistik yang digunakan untuk membuat keputusan atau kesimpulan tentang suatu populasi berdasarkan data sampel. Tujuannya adalah untuk menguji apakah suatu klaim (hipotesis) tentang parameter populasi itu benar atau tidak.\n",
    "\n",
    "<b>Konsep Kunci dalam Pengujian Hipotesis:</b>\n",
    "\n",
    "1. Hipotesis Nol (H0):\n",
    "\n",
    "- Ini adalah pernyataan \"tidak ada efek\", \"tidak ada perbedaan\", atau \"tidak ada hubungan\". Ini adalah status quo atau klaim yang ingin Anda sangkal.\n",
    "- Contoh: \"Metode pengajaran baru tidak memiliki efek pada nilai siswa.\n",
    "\n",
    "2. Hipotesis Alternatif (H1)\n",
    "\n",
    "- Ini adalah klaim yang ingin Anda temukan buktinya. Ini adalah kebalikan dari hipotesis nol.\n",
    "- Contoh: \"Metode pengajaran baru meningkatkan nilai siswa.\" atau \"Metode pengajaran baru mengubah nilai siswa.\"\n",
    "\n",
    "3. Tingkat Signifikansi (α):\n",
    "\n",
    "- Ini adalah ambang batas yang telah ditentukan untuk memutuskan apakah akan menolak hipotesis nol. Ini mewakili probabilitas maksimum untuk melakukan Kesalahan Tipe I (lihat di bawah).\n",
    "- Umumnya ditetapkan pada 0.05 (5%), 0.01 (1%), atau 0.10 (10%). Jika α=0.05, itu berarti Anda bersedia menerima 5% kemungkinan salah menolak hipotesis nol yang sebenarnya benar.\n",
    "\n",
    "4. Statistik Uji:\n",
    "\n",
    "- Nilai yang dihitung dari data sampel Anda yang digunakan untuk mengevaluasi hipotesis nol. Jenis statistik uji tergantung pada jenis data dan hipotesis spesifik yang diuji (misalnya, z-score, t-score, F-statistic, chi-square).\n",
    "\n",
    "5. p-value:\n",
    "\n",
    "- Probabilitas untuk mengamati statistik uji yang sama ekstrem, atau lebih ekstrem, dari yang dihitung dari data sampel Anda, dengan asumsi hipotesis nol adalah benar.\n",
    "- p-value yang kecil (biasanya kurang dari α) menunjukkan bahwa data yang Anda amati tidak mungkin terjadi jika hipotesis nol benar, sehingga Anda menolak hipotesis nol.\n",
    "- p-value yang besar menunjukkan bahwa data yang Anda amati konsisten dengan hipotesis nol, sehingga Anda gagal menolak hipotesis nol.\n",
    "\n",
    "6. Aturan Keputusan:\n",
    "\n",
    "- Jika p-value ≤α: Tolak hipotesis nol. Ini berarti ada cukup bukti statistik untuk mendukung hipotesis alternatif.\n",
    "- Jika p-value >α: Gagal menolak hipotesis nol. Ini berarti tidak ada cukup bukti statistik untuk mendukung hipotesis alternatif. (Catatan: \"Gagal menolak\" tidak sama dengan \"menerima.\" Ini hanya berarti Anda tidak memiliki cukup bukti untuk menyanggahnya.)\n",
    "\n",
    "<b> Jenis Kesalahan dalam Pengujian Hipotesis:</b>\n",
    "\n",
    "1. Kesalahan Tipe I (α):\n",
    "\n",
    "- Menolak hipotesis nol padahal sebenarnya benar. (Positif Palsu)\n",
    "- Contoh: Menyimpulkan metode pengajaran baru meningkatkan nilai padahal, pada kenyataannya, tidak ada efek.\n",
    "\n",
    "2. Kesalahan Tipe II (β):\n",
    "\n",
    "- Gagal menolak hipotesis nol padahal sebenarnya salah. (Negatif Palsu)\n",
    "- Contoh: Menyimpulkan metode pengajaran baru tidak meningkatkan nilai padahal, pada kenyataannya, memang ada efek."
   ]
  },
  {
   "cell_type": "code",
   "execution_count": null,
   "id": "b3745aed-023f-4788-b898-94ade6fa3019",
   "metadata": {},
   "outputs": [],
   "source": []
  }
 ],
 "metadata": {
  "kernelspec": {
   "display_name": "Python 3 (ipykernel)",
   "language": "python",
   "name": "python3"
  },
  "language_info": {
   "codemirror_mode": {
    "name": "ipython",
    "version": 3
   },
   "file_extension": ".py",
   "mimetype": "text/x-python",
   "name": "python",
   "nbconvert_exporter": "python",
   "pygments_lexer": "ipython3",
   "version": "3.13.2"
  }
 },
 "nbformat": 4,
 "nbformat_minor": 5
}
