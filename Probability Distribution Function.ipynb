{
 "cells": [
  {
   "cell_type": "markdown",
   "id": "9ca4b378-f706-4e67-9c7b-267c6c07c1d7",
   "metadata": {},
   "source": [
    "# Probability Distribution Functions\n",
    "Fungsi distribusi probabilitas (sering disebut juga distribusi probabilitas) adalah konsep penting yang menggambarkan bagaimana probabilitas suatu variabel acak didistribusikan di antara semua kemungkinan nilai yang bisa diambilnya. Ini adalah cara kita untuk memodelkan dan memahami perilaku ketidakpastian.\n",
    "\n",
    "Bayangkan Anda memiliki sebuah variabel acak, seperti hasil lemparan dadu atau tinggi badan siswa. Fungsi distribusi probabilitas akan memberi tahu kita seberapa besar kemungkinan setiap nilai atau rentang nilai tertentu akan muncul.\n",
    "\n",
    "#### Dua Jenis Utama Fungsi Distribusi Probabilitas\n",
    "\n",
    "#### 1. Fungsi Massa Probabilitas (Probability Mass Function - PMF)\n",
    "\n",
    "Digunakan untuk: Variabel acak diskrit. Variabel acak diskrit adalah yang hanya bisa mengambil sejumlah nilai yang terhitung (misalnya, bilangan bulat).\n",
    "\n",
    "Jenis-jenis Distribusi Probabilitas untuk Variabel Acak Diskrit:\n",
    "- Distribusi Bernoulli: Untuk percobaan dengan dua hasil yang mungkin (sukses/gagal).\n",
    "- Distribusi Binomial: Jumlah keberhasilan dalam serangkaian percobaan Bernoulli yang independen.\n",
    "- Distribusi Poisson: Jumlah kejadian dalam interval waktu atau ruang tertentu (misalnya, jumlah panggilan telepon yang diterima dalam satu jam).\n",
    "- Distribusi Geometrik: Jumlah percobaan yang diperlukan untuk mendapatkan keberhasilan pertama.\n",
    "\n",
    "#### 2. Fungsi Kepadatan Probabilitas (Probability Density Function - PDF)\n",
    "\n",
    "Digunakan untuk: Variabel acak kontinu. Variabel acak kontinu adalah yang bisa mengambil nilai apa pun dalam suatu rentang atau interval (misalnya, bilangan riil).\n",
    "\n",
    "Jenis-jenis Distribusi Probabilitas untuk Variabel Acak Kontinu:\n",
    "- Distribusi Normal (Gaussian): Paling umum, sering muncul di alam (tinggi, berat, nilai ujian).\n",
    "- Distribusi Eksponensial: Waktu antara dua kejadian dalam proses Poisson (misalnya, waktu tunggu di antrean).\n",
    "- Distribusi Uniform: Setiap nilai dalam rentang tertentu memiliki probabilitas yang sama.\n",
    "- Distribusi Chi-Square: Digunakan dalam pengujian hipotesis, terutama untuk varians.\n",
    "- Distribusi t-Student: Mirip dengan distribusi normal, digunakan untuk sampel kecil."
   ]
  },
  {
   "cell_type": "code",
   "execution_count": null,
   "id": "eec69849-a37f-4946-a412-81d2b07b1afd",
   "metadata": {},
   "outputs": [],
   "source": []
  }
 ],
 "metadata": {
  "kernelspec": {
   "display_name": "Python 3 (ipykernel)",
   "language": "python",
   "name": "python3"
  },
  "language_info": {
   "codemirror_mode": {
    "name": "ipython",
    "version": 3
   },
   "file_extension": ".py",
   "mimetype": "text/x-python",
   "name": "python",
   "nbconvert_exporter": "python",
   "pygments_lexer": "ipython3",
   "version": "3.13.2"
  }
 },
 "nbformat": 4,
 "nbformat_minor": 5
}
