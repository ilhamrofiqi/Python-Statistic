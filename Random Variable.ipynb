{
 "cells": [
  {
   "cell_type": "markdown",
   "id": "f80f960f-3508-4a39-8aa3-ec5a1b9d7a32",
   "metadata": {},
   "source": [
    "# Random Variable\n",
    "\n",
    "variabel acak (atau random variable) adalah konsep kunci yang menjembatani hasil dari suatu percobaan acak dengan nilai numerik. Secara sederhana, variabel acak adalah deskripsi numerik dari hasil suatu fenomena acak.\n",
    "\n",
    "## Jenis-jenis Variabel Acak\n",
    "\n",
    "### 1. Variabel Acak Diskrit\n",
    "Variabel acak diskrit adalah variabel yang nilainya dapat dihitung atau berupa bilangan bulat. Ini berarti variabel ini hanya dapat mengambil sejumlah nilai tertentu, seringkali berupa bilangan cacah atau bilangan bulat.\n",
    "\n",
    "Contoh:\n",
    "- Jumlah kepala dalam 5 kali lemparan koin: 0, 1, 2, 3, 4, 5.\n",
    "- Jumlah mobil yang terjual di dealer dalam sehari: 0, 1, 2, 3, ...\n",
    "- Angka yang muncul saat melempar dadu: 1, 2, 3, 4, 5, 6\n",
    "\n",
    "### 2. Variabel Acak Kontinu\n",
    "Variabel acak kontinu adalah variabel yang nilainya dapat mengambil nilai apa pun dalam suatu interval atau rentang tertentu. Nilainya tidak terbatas pada bilangan bulat; mereka bisa berupa pecahan atau desimal tak terbatas.\n",
    "\n",
    "Contoh:\n",
    "- Tinggi badan seseorang: Bisa 170 cm, 170.5 cm, 170.53 cm, dst.\n",
    "- Berat badan seseorang: Misalnya, 65 kg, 65.2 kg, 65.25 kg.\n",
    "- Suhu di sebuah ruangan: 25$^\\circ$C, 25.3$^\\circ$C, dst."
   ]
  },
  {
   "cell_type": "code",
   "execution_count": 2,
   "id": "64d54fbd-e882-4845-82b2-4923e081378f",
   "metadata": {},
   "outputs": [
    {
     "name": "stdout",
     "output_type": "stream",
     "text": [
      "Rolled value: 2\n"
     ]
    }
   ],
   "source": [
    "# Random Variabe Diskrit\n",
    "import random\n",
    "\n",
    "# Emaple of a discrete random variable - rolling a fair six-sided die\n",
    "outcomes = [1,2,3,4,5,6]\n",
    "rolled_value = random.choice(outcomes)\n",
    "print(\"Rolled value:\", rolled_value)"
   ]
  },
  {
   "cell_type": "code",
   "execution_count": 3,
   "id": "fc0717d1-df8e-48d6-949c-75a160d3b3d2",
   "metadata": {},
   "outputs": [
    {
     "name": "stdout",
     "output_type": "stream",
     "text": [
      "Random Value: 0.5009824821888685\n"
     ]
    }
   ],
   "source": [
    "# Random Variabe Kontinu\n",
    "import random\n",
    "\n",
    "# Example of a continuous random variable - generating a random number between 0 and 1\n",
    "random_value = random.random()\n",
    "print(\"Random Value:\", random_value)"
   ]
  },
  {
   "cell_type": "code",
   "execution_count": null,
   "id": "0dd97c64-f0c9-4040-b123-b009bf3ba32d",
   "metadata": {},
   "outputs": [],
   "source": []
  }
 ],
 "metadata": {
  "kernelspec": {
   "display_name": "Python 3 (ipykernel)",
   "language": "python",
   "name": "python3"
  },
  "language_info": {
   "codemirror_mode": {
    "name": "ipython",
    "version": 3
   },
   "file_extension": ".py",
   "mimetype": "text/x-python",
   "name": "python",
   "nbconvert_exporter": "python",
   "pygments_lexer": "ipython3",
   "version": "3.13.2"
  }
 },
 "nbformat": 4,
 "nbformat_minor": 5
}
