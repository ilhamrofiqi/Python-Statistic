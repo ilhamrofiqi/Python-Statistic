{
 "cells": [
  {
   "cell_type": "markdown",
   "id": "7856598b-652c-4bd5-948b-ff827e4402e5",
   "metadata": {},
   "source": [
    "# Sampling Methods\n",
    "\n",
    "Metode sampling adalah teknik yang digunakan dalam penelitian untuk memilih sebagian kecil individu atau item (sampel) dari kelompok yang lebih besar (populasi) guna menarik kesimpulan dan membuat perkiraan tentang seluruh populasi tersebut. Seringkali tidak mungkin atau tidak praktis untuk meneliti setiap anggota populasi, sehingga sampling menjadi pendekatan yang penting dan efisien.\n",
    "\n",
    "### Jenis-jenis Metode Sampling Probabilitas (Probability Sampling)\n",
    "\n",
    "- <b>Simple Random Sampling (Sampling Acak Sederhana):</b>\n",
    "\n",
    "<b>Deskripsi:</b> Setiap individu dalam populasi memiliki peluang yang sama untuk dipilih. Ini seperti menarik nama dari topi atau menggunakan generator angka acak.\n",
    "\n",
    "<b>Keuntungan:</b> Mengurangi bias, memungkinkan perhitungan kesalahan sampling, dan hasilnya dapat digeneralisasi dengan andal.\n",
    "\n",
    "<b>Contoh:</b> Memberi nomor pada setiap karyawan di sebuah perusahaan, lalu secara acak memilih 100 angka untuk memilih sampel 100 karyawan.\n",
    "\n",
    "- <b>Systematic Sampling (Sampling Sistematis):</b>\n",
    "\n",
    "<b>Deskripsi:</b> Individu dipilih pada interval yang teratur dari daftar populasi, setelah titik awal acak dipilih. Interval ditentukan dengan membagi ukuran populasi dengan ukuran sampel yang diinginkan.\n",
    "\n",
    "<b>Keuntungan:</b> Lebih sederhana dan nyaman untuk diterapkan daripada sampling acak sederhana.\n",
    "\n",
    "<b>Contoh:</b> Dari daftar 1000 siswa, jika Anda membutuhkan sampel 100, Anda akan memilih setiap siswa ke-10 setelah secara acak memilih angka awal antara 1 dan 10.\n",
    "\n",
    "- <b>Stratified Sampling (Sampling Berstrata):</b>\n",
    "\n",
    "<b>Deskripsi:</b> Populasi dibagi menjadi subkelompok yang berbeda (strata) berdasarkan karakteristik yang sama (misalnya, usia, jenis kelamin, tingkat pendidikan). Kemudian, sampel acak sederhana atau sistematis diambil dari setiap strata secara proporsional atau tidak proporsional.\n",
    "\n",
    "<b>Keuntungan:</b> Memastikan bahwa semua subkelompok yang relevan terwakili dalam sampel, menghasilkan hasil yang lebih akurat dan representatif serta mengurangi bias sampling. Memungkinkan analisis dalam subkelompok.\n",
    "\n",
    "<b>Contoh:</b> Untuk memastikan sampel karyawan perusahaan mencerminkan keseimbangan gender, Anda dapat membagi karyawan ke dalam strata pria dan wanita, lalu secara acak memilih sejumlah proporsional dari masing-masing.\n",
    "\n",
    "- <b>Cluster Sampling (Sampling Klaster):</b>\n",
    "\n",
    "<b>Deskripsi:</b> Populasi dibagi menjadi subkelompok alami (klaster), seringkali berdasarkan geografi. Peneliti secara acak memilih seluruh klaster untuk disertakan dalam sampel, dan kemudian semua individu dalam klaster yang dipilih disurvei. Dalam sampling klaster multi-tahap, sampel individu kemudian diambil dari dalam klaster yang dipilih.\n",
    "\n",
    "<b>Keuntungan:</b> Lebih hemat biaya dan lebih mudah secara logistik ketika berhadapan dengan populasi yang luas dan tersebar secara geografis. Kerangka sampling individu tidak selalu diperlukan.\n",
    "\n",
    "<b>Contoh:</b> Untuk mensurvei siswa sekolah dasar di seluruh negara yang luas, Anda dapat secara acak memilih beberapa sekolah (klaster) dan kemudian mensurvei semua siswa di sekolah-sekolah yang terpilih tersebut."
   ]
  },
  {
   "cell_type": "code",
   "execution_count": null,
   "id": "02dd970a-170e-4490-b1d8-c05d031e7d52",
   "metadata": {},
   "outputs": [],
   "source": []
  }
 ],
 "metadata": {
  "kernelspec": {
   "display_name": "Python 3 (ipykernel)",
   "language": "python",
   "name": "python3"
  },
  "language_info": {
   "codemirror_mode": {
    "name": "ipython",
    "version": 3
   },
   "file_extension": ".py",
   "mimetype": "text/x-python",
   "name": "python",
   "nbconvert_exporter": "python",
   "pygments_lexer": "ipython3",
   "version": "3.13.2"
  }
 },
 "nbformat": 4,
 "nbformat_minor": 5
}
