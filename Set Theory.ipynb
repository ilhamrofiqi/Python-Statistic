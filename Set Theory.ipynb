{
 "cells": [
  {
   "cell_type": "markdown",
   "id": "4a1f3661-e8b1-4a71-9c1d-d403db9624fe",
   "metadata": {},
   "source": [
    "# Set Theory\n",
    "\n",
    "Set theory (teori himpunan) adalah cabang dari matematika yang mempelajari himpunan, yaitu kumpulan objek yang didefinisikan dengan jelas dan dianggap sebagai satu kesatuan. Objek-objek dalam himpunan disebut anggota atau elemen."
   ]
  },
  {
   "cell_type": "code",
   "execution_count": 8,
   "id": "6d56c30e-d8eb-4266-add1-dae929dfd214",
   "metadata": {},
   "outputs": [
    {
     "data": {
      "text/html": [
       "<div>\n",
       "<style scoped>\n",
       "    .dataframe tbody tr th:only-of-type {\n",
       "        vertical-align: middle;\n",
       "    }\n",
       "\n",
       "    .dataframe tbody tr th {\n",
       "        vertical-align: top;\n",
       "    }\n",
       "\n",
       "    .dataframe thead th {\n",
       "        text-align: right;\n",
       "    }\n",
       "</style>\n",
       "<table border=\"1\" class=\"dataframe\">\n",
       "  <thead>\n",
       "    <tr style=\"text-align: right;\">\n",
       "      <th></th>\n",
       "      <th>id</th>\n",
       "      <th>season</th>\n",
       "      <th>city</th>\n",
       "      <th>date</th>\n",
       "      <th>team1</th>\n",
       "      <th>team2</th>\n",
       "      <th>toss_winner</th>\n",
       "      <th>toss_decision</th>\n",
       "      <th>result</th>\n",
       "      <th>dl_applied</th>\n",
       "      <th>winner</th>\n",
       "      <th>win_by_runs</th>\n",
       "      <th>win_by_wickets</th>\n",
       "      <th>player_of_match</th>\n",
       "      <th>venue</th>\n",
       "      <th>umpire1</th>\n",
       "      <th>umpire2</th>\n",
       "      <th>umpire3</th>\n",
       "    </tr>\n",
       "  </thead>\n",
       "  <tbody>\n",
       "    <tr>\n",
       "      <th>0</th>\n",
       "      <td>1</td>\n",
       "      <td>2017</td>\n",
       "      <td>Hyderabad</td>\n",
       "      <td>5/4/2017</td>\n",
       "      <td>Sunrisers Hyderabad</td>\n",
       "      <td>Royal Challengers Bangalore</td>\n",
       "      <td>Royal Challengers Bangalore</td>\n",
       "      <td>field</td>\n",
       "      <td>normal</td>\n",
       "      <td>0</td>\n",
       "      <td>Sunrisers Hyderabad</td>\n",
       "      <td>35</td>\n",
       "      <td>0</td>\n",
       "      <td>Yuvraj Singh</td>\n",
       "      <td>Rajiv Gandhi International Stadium, Uppal</td>\n",
       "      <td>AY Dandekar</td>\n",
       "      <td>NJ Llong</td>\n",
       "      <td>NaN</td>\n",
       "    </tr>\n",
       "    <tr>\n",
       "      <th>1</th>\n",
       "      <td>2</td>\n",
       "      <td>2017</td>\n",
       "      <td>Pune</td>\n",
       "      <td>6/4/2017</td>\n",
       "      <td>Mumbai Indians</td>\n",
       "      <td>Rising Pune Supergiant</td>\n",
       "      <td>Rising Pune Supergiant</td>\n",
       "      <td>field</td>\n",
       "      <td>normal</td>\n",
       "      <td>0</td>\n",
       "      <td>Rising Pune Supergiant</td>\n",
       "      <td>0</td>\n",
       "      <td>7</td>\n",
       "      <td>SPD Smith</td>\n",
       "      <td>Maharashtra Cricket Association Stadium</td>\n",
       "      <td>A Nand Kishore</td>\n",
       "      <td>S Ravi</td>\n",
       "      <td>NaN</td>\n",
       "    </tr>\n",
       "    <tr>\n",
       "      <th>2</th>\n",
       "      <td>3</td>\n",
       "      <td>2017</td>\n",
       "      <td>Rajkot</td>\n",
       "      <td>7/4/2017</td>\n",
       "      <td>Gujarat Lions</td>\n",
       "      <td>Kolkata Knight Riders</td>\n",
       "      <td>Kolkata Knight Riders</td>\n",
       "      <td>field</td>\n",
       "      <td>normal</td>\n",
       "      <td>0</td>\n",
       "      <td>Kolkata Knight Riders</td>\n",
       "      <td>0</td>\n",
       "      <td>10</td>\n",
       "      <td>CA Lynn</td>\n",
       "      <td>Saurashtra Cricket Association Stadium</td>\n",
       "      <td>Nitin Menon</td>\n",
       "      <td>CK Nandan</td>\n",
       "      <td>NaN</td>\n",
       "    </tr>\n",
       "    <tr>\n",
       "      <th>3</th>\n",
       "      <td>4</td>\n",
       "      <td>2017</td>\n",
       "      <td>Indore</td>\n",
       "      <td>8/4/2017</td>\n",
       "      <td>Rising Pune Supergiant</td>\n",
       "      <td>Kings XI Punjab</td>\n",
       "      <td>Kings XI Punjab</td>\n",
       "      <td>field</td>\n",
       "      <td>normal</td>\n",
       "      <td>0</td>\n",
       "      <td>Kings XI Punjab</td>\n",
       "      <td>0</td>\n",
       "      <td>6</td>\n",
       "      <td>GJ Maxwell</td>\n",
       "      <td>Holkar Cricket Stadium</td>\n",
       "      <td>AK Chaudhary</td>\n",
       "      <td>C Shamshuddin</td>\n",
       "      <td>NaN</td>\n",
       "    </tr>\n",
       "    <tr>\n",
       "      <th>4</th>\n",
       "      <td>5</td>\n",
       "      <td>2017</td>\n",
       "      <td>Bangalore</td>\n",
       "      <td>8/4/2017</td>\n",
       "      <td>Royal Challengers Bangalore</td>\n",
       "      <td>Delhi Daredevils</td>\n",
       "      <td>Royal Challengers Bangalore</td>\n",
       "      <td>bat</td>\n",
       "      <td>normal</td>\n",
       "      <td>0</td>\n",
       "      <td>Royal Challengers Bangalore</td>\n",
       "      <td>15</td>\n",
       "      <td>0</td>\n",
       "      <td>KM Jadhav</td>\n",
       "      <td>M Chinnaswamy Stadium</td>\n",
       "      <td>NaN</td>\n",
       "      <td>NaN</td>\n",
       "      <td>NaN</td>\n",
       "    </tr>\n",
       "  </tbody>\n",
       "</table>\n",
       "</div>"
      ],
      "text/plain": [
       "   id  season       city      date                        team1  \\\n",
       "0   1    2017  Hyderabad  5/4/2017          Sunrisers Hyderabad   \n",
       "1   2    2017       Pune  6/4/2017               Mumbai Indians   \n",
       "2   3    2017     Rajkot  7/4/2017                Gujarat Lions   \n",
       "3   4    2017     Indore  8/4/2017       Rising Pune Supergiant   \n",
       "4   5    2017  Bangalore  8/4/2017  Royal Challengers Bangalore   \n",
       "\n",
       "                         team2                  toss_winner toss_decision  \\\n",
       "0  Royal Challengers Bangalore  Royal Challengers Bangalore         field   \n",
       "1       Rising Pune Supergiant       Rising Pune Supergiant         field   \n",
       "2        Kolkata Knight Riders        Kolkata Knight Riders         field   \n",
       "3              Kings XI Punjab              Kings XI Punjab         field   \n",
       "4             Delhi Daredevils  Royal Challengers Bangalore           bat   \n",
       "\n",
       "   result  dl_applied                       winner  win_by_runs  \\\n",
       "0  normal           0          Sunrisers Hyderabad           35   \n",
       "1  normal           0       Rising Pune Supergiant            0   \n",
       "2  normal           0        Kolkata Knight Riders            0   \n",
       "3  normal           0              Kings XI Punjab            0   \n",
       "4  normal           0  Royal Challengers Bangalore           15   \n",
       "\n",
       "   win_by_wickets player_of_match                                      venue  \\\n",
       "0               0    Yuvraj Singh  Rajiv Gandhi International Stadium, Uppal   \n",
       "1               7       SPD Smith    Maharashtra Cricket Association Stadium   \n",
       "2              10         CA Lynn     Saurashtra Cricket Association Stadium   \n",
       "3               6      GJ Maxwell                     Holkar Cricket Stadium   \n",
       "4               0       KM Jadhav                      M Chinnaswamy Stadium   \n",
       "\n",
       "          umpire1        umpire2  umpire3  \n",
       "0     AY Dandekar       NJ Llong      NaN  \n",
       "1  A Nand Kishore         S Ravi      NaN  \n",
       "2     Nitin Menon      CK Nandan      NaN  \n",
       "3    AK Chaudhary  C Shamshuddin      NaN  \n",
       "4             NaN            NaN      NaN  "
      ]
     },
     "execution_count": 8,
     "metadata": {},
     "output_type": "execute_result"
    }
   ],
   "source": [
    "import pandas as pd\n",
    "import numpy as np\n",
    "import scipy.stats as stats\n",
    "\n",
    "\n",
    "df = pd.read_csv(\"matches.csv\")\n",
    "df.head()"
   ]
  },
  {
   "cell_type": "markdown",
   "id": "a059fd18-5195-499e-a1b3-b0a2857d5764",
   "metadata": {},
   "source": [
    "## Union of Sets = A ∪ B\n",
    " Menggabungkan semua elemen dari dua atau lebih himpunan."
   ]
  },
  {
   "cell_type": "code",
   "execution_count": 3,
   "id": "4f026e2d-3db2-4760-871b-8e71f686cffa",
   "metadata": {},
   "outputs": [
    {
     "name": "stdout",
     "output_type": "stream",
     "text": [
      "Union Set:\n",
      "{'C Shamshuddin', 'PR Reiffel', 'AM Saheba', 'K Srinivasan', 'SD Fry', 'PG Pathak', 'RK Illingworth', 'RM Deshpande', 'Nitin Menon', 'RJ Tucker', 'SS Hazare', 'Asad Rauf', 'K Hariharan', 'Subroto Das', 'RB Tiffin', 'I Shivram', 'HDPK Dharmasena', 'AL Hill', 'TH Wijewardene', 'CK Nandan', 'KN Ananthapadmanabhan', 'BNJ Oxenford', 'SD Ranade', 'K Bharatan', 'SJ Davis', 'SK Tarapore', 'AK Chaudhary', 'JD Cloete', 'SL Shastri', 'MR Benson', 'S Asnani', 'GA Pratapkumar', 'BR Doctrove', 'IL Howell', 'A Nand Kishore', 'M Erasmus', 'S Das', 'A Deshmukh', 'K Srinath', 'GAV Baxter', 'NJ Llong', 'S Ravi', 'AV Jayaprakash', 'VA Kulkarni', 'CB Gaffaney', 'AY Dandekar', 'DJ Harper', 'VK Sharma', nan, 'BF Bowden', 'RE Koertzen', 'YC Barde', 'Aleem Dar', 'BG Jerling', 'SJA Taufel'}\n"
     ]
    }
   ],
   "source": [
    "# Extract unique umpires from the first umpire column\n",
    "umpire1_set = set(df['umpire1'])\n",
    "\n",
    "# Extract unique umpires from the second umpire column\n",
    "umpire2_set = set(df['umpire2'])\n",
    "\n",
    "# Extract unique umpires from both umpire column\n",
    "union_set = umpire1_set.union(umpire2_set)\n",
    "\n",
    "print(\"Union Set:\")\n",
    "print(union_set)"
   ]
  },
  {
   "cell_type": "markdown",
   "id": "7b1db9e0-f321-4dcd-9ce3-cb9795232ce4",
   "metadata": {},
   "source": [
    "## Intersection of Sets = A ∩ B\n",
    "Mengambil elemen yang ada di kedua himpunan"
   ]
  },
  {
   "cell_type": "code",
   "execution_count": 4,
   "id": "3df9c1c3-cec9-4562-9a32-abd2c2b33201",
   "metadata": {},
   "outputs": [
    {
     "name": "stdout",
     "output_type": "stream",
     "text": [
      "Intersection Set:\n",
      "{'C Shamshuddin', 'SL Shastri', 'PR Reiffel', 'AM Saheba', 'SD Fry', 'PG Pathak', 'RK Illingworth', 'Nitin Menon', 'MR Benson', 'S Asnani', 'BR Doctrove', 'IL Howell', 'SS Hazare', 'A Nand Kishore', 'M Erasmus', 'S Das', 'A Deshmukh', 'K Hariharan', 'K Srinath', 'NJ Llong', 'S Ravi', 'HDPK Dharmasena', 'AV Jayaprakash', 'VA Kulkarni', 'CB Gaffaney', 'CK Nandan', 'AK Chaudhary', 'BNJ Oxenford', 'DJ Harper', nan, 'SJ Davis', 'RE Koertzen', 'BG Jerling', 'SJA Taufel', 'SK Tarapore', 'JD Cloete'}\n"
     ]
    }
   ],
   "source": [
    "# Perform intersection of umpires from both columns\n",
    "intersection_set = umpire1_set.intersection(umpire2_set)\n",
    "\n",
    "print(\"Intersection Set:\")\n",
    "print(intersection_set)"
   ]
  },
  {
   "cell_type": "markdown",
   "id": "581c359c-723c-4fec-b803-3b1ff4ff6a28",
   "metadata": {},
   "source": [
    "## Difference of Sets = A − B\n",
    "Elemen yang ada di himpunan pertama tetapi tidak ada di himpunan kedua."
   ]
  },
  {
   "cell_type": "code",
   "execution_count": 7,
   "id": "eb7600ae-10b8-4da2-a019-8aa686113fb9",
   "metadata": {},
   "outputs": [
    {
     "name": "stdout",
     "output_type": "stream",
     "text": [
      "Difference (Umpire1 - Umpire2) Set:\n",
      "{'K Bharatan', 'Asad Rauf', 'BF Bowden', 'YC Barde', 'RM Deshpande', 'Aleem Dar', 'AY Dandekar', 'GAV Baxter', 'KN Ananthapadmanabhan'}\n"
     ]
    }
   ],
   "source": [
    "# Perform difference between umpires of the first columns and second column\n",
    "difference1_set = umpire1_set.difference(umpire2_set)\n",
    "\n",
    "print(\"Difference (Umpire1 - Umpire2) Set:\")\n",
    "print(difference1_set)"
   ]
  },
  {
   "cell_type": "code",
   "execution_count": null,
   "id": "22ef199b-63b5-4dd5-88f0-d5ac81f439e0",
   "metadata": {},
   "outputs": [],
   "source": []
  }
 ],
 "metadata": {
  "kernelspec": {
   "display_name": "Python 3 (ipykernel)",
   "language": "python",
   "name": "python3"
  },
  "language_info": {
   "codemirror_mode": {
    "name": "ipython",
    "version": 3
   },
   "file_extension": ".py",
   "mimetype": "text/x-python",
   "name": "python",
   "nbconvert_exporter": "python",
   "pygments_lexer": "ipython3",
   "version": "3.13.2"
  }
 },
 "nbformat": 4,
 "nbformat_minor": 5
}
