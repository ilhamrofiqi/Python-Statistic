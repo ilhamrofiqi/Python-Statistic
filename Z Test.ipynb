{
 "cells": [
  {
   "cell_type": "markdown",
   "id": "22009338-9e57-48d4-981b-606228fd3098",
   "metadata": {},
   "source": [
    "# Z Test\n",
    "\n",
    "Uji-z adalah uji hipotesis statistik yang membandingkan rata-rata sampel dengan rata-rata populasi, atau rata-rata dua sampel, dan menghitung z-score. Z-score ini menunjukkan seberapa jauh rata-rata sampel menyimpang dari rata-rata populasi (atau rata-rata sampel lainnya) dalam satuan simpangan baku. Uji-z didasarkan pada distribusi normal standar.\n",
    "\n",
    "### Z-Test digunakan saat:\n",
    "- Ukuran sampel besar (biasanya 𝑛 ≥ 30)\n",
    "\n",
    "- Standar deviasi populasi (𝜎) diketahui\n",
    "\n",
    "- Data berdistribusi normal atau mendekati normal (berlaku CLT)\n",
    "\n",
    "### Jenis-Jenis Uji-z\n",
    "Sama seperti Uji-t, Uji-z juga memiliki beberapa jenis:\n",
    "\n",
    "1. Uji-z Satu Sampel (One-Sample Z-Test)\n",
    "\n",
    "- Tujuan: Membandingkan rata-rata sampel tunggal dengan nilai hipotesis atau rata-rata populasi yang diketahui.\n",
    "- Contoh:\n",
    "    - Sebuah perusahaan mengklaim bahwa rata-rata berat produk mereka adalah 500 gram dengan simpangan baku populasi 10 gram. Anda mengambil sampel 100 produk dan menemukan rata-rata 498 gram. Apakah ini signifikan berbeda dari klaim perusahaan?\n",
    "\n",
    "2. Uji-z Dua Sampel Independen (Independent Two-Sample Z-Test)\n",
    "\n",
    "- Tujuan: Membandingkan rata-rata dari dua kelompok yang tidak saling terkait atau independen, di mana simpangan baku populasi dari kedua kelompok diketahui.\n",
    "- Contoh:\n",
    "    - Anda ingin membandingkan rata-rata skor IQ siswa dari dua sekolah yang berbeda, dan Anda mengetahui simpangan baku IQ di seluruh populasi siswa dari kedua sekolah tersebut.\n",
    "\n",
    "3. Uji-z untuk Proporsi (Z-Test for Proportions)\n",
    "\n",
    "- Tujuan: Digunakan untuk membandingkan proporsi (persentase) dari satu sampel dengan proporsi populasi yang diketahui, atau membandingkan proporsi dua sampel. Ini sangat umum dalam survei dan jajak pendapat.\n",
    "- Contoh:\n",
    "    - Sebuah jajak pendapat mengklaim 60% pemilih akan memilih kandidat A. Anda mengambil sampel 200 orang dan 100 di antaranya memilih kandidat A. Apakah proporsi ini signifikan berbeda dari klaim jajak pendapat?"
   ]
  },
  {
   "cell_type": "code",
   "execution_count": 1,
   "id": "6108135a-b5eb-4e3f-a00c-a0b992413f99",
   "metadata": {},
   "outputs": [],
   "source": [
    "import numpy as np\n",
    "import pandas as pd\n",
    "\n",
    "from scipy.stats import ttest_1samp # one t test\n",
    "from scipy.stats import ttest_ind # two t test\n",
    "from scipy.stats import ttest_rel # paired t test"
   ]
  },
  {
   "cell_type": "code",
   "execution_count": 2,
   "id": "2917c338-2c70-46b7-87be-1cf7ea8339e2",
   "metadata": {},
   "outputs": [
    {
     "data": {
      "text/plain": [
       "(1460, 81)"
      ]
     },
     "execution_count": 2,
     "metadata": {},
     "output_type": "execute_result"
    }
   ],
   "source": [
    "data = pd.read_csv('train.csv')\n",
    "\n",
    "data.shape"
   ]
  },
  {
   "cell_type": "code",
   "execution_count": 3,
   "id": "7eb8d2df-c4ac-4d93-bf42-c0f8aa9e902c",
   "metadata": {},
   "outputs": [
    {
     "name": "stdout",
     "output_type": "stream",
     "text": [
      "Help on function ztest in module statsmodels.stats.weightstats:\n",
      "\n",
      "ztest(x1, x2=None, value=0, alternative='two-sided', usevar='pooled', ddof=1.0)\n",
      "    test for mean based on normal distribution, one or two samples\n",
      "\n",
      "    In the case of two samples, the samples are assumed to be independent.\n",
      "\n",
      "    Parameters\n",
      "    ----------\n",
      "    x1 : array_like, 1-D or 2-D\n",
      "        first of the two independent samples\n",
      "    x2 : array_like, 1-D or 2-D\n",
      "        second of the two independent samples\n",
      "    value : float\n",
      "        In the one sample case, value is the mean of x1 under the Null\n",
      "        hypothesis.\n",
      "        In the two sample case, value is the difference between mean of x1 and\n",
      "        mean of x2 under the Null hypothesis. The test statistic is\n",
      "        `x1_mean - x2_mean - value`.\n",
      "    alternative : str\n",
      "        The alternative hypothesis, H1, has to be one of the following\n",
      "\n",
      "           'two-sided': H1: difference in means not equal to value (default)\n",
      "           'larger' :   H1: difference in means larger than value\n",
      "           'smaller' :  H1: difference in means smaller than value\n",
      "\n",
      "    usevar : str, 'pooled' or 'unequal'\n",
      "        If ``pooled``, then the standard deviation of the samples is assumed to be\n",
      "        the same. If ``unequal``, then the standard deviation of the sample is\n",
      "        assumed to be different.\n",
      "    ddof : int\n",
      "        Degrees of freedom use in the calculation of the variance of the mean\n",
      "        estimate. In the case of comparing means this is one, however it can\n",
      "        be adjusted for testing other statistics (proportion, correlation)\n",
      "\n",
      "    Returns\n",
      "    -------\n",
      "    tstat : float\n",
      "        test statistic\n",
      "    pvalue : float\n",
      "        pvalue of the t-test\n",
      "\n",
      "    Notes\n",
      "    -----\n",
      "    usevar can be pooled or unequal in two sample case\n",
      "\n"
     ]
    }
   ],
   "source": [
    "from statsmodels.stats import weightstats as stests\n",
    "\n",
    "help(stests.ztest)"
   ]
  },
  {
   "cell_type": "markdown",
   "id": "06adda15-98aa-4ec3-a1e2-5a88bfebe736",
   "metadata": {},
   "source": [
    "### One-Sample Z-Test\n",
    " Kami menguji apakah rata-rata harga rumah adalah 180000 atau bukan"
   ]
  },
  {
   "cell_type": "code",
   "execution_count": 4,
   "id": "2d7fcd91-80cf-4056-b5f2-c888f250fb13",
   "metadata": {},
   "outputs": [
    {
     "name": "stdout",
     "output_type": "stream",
     "text": [
      "P-value : 0.6577127747949538\n",
      "We fail to reject the null hypothesis\n"
     ]
    }
   ],
   "source": [
    "from scipy import stats\n",
    "\n",
    "ztest, pval = stests.ztest(x1 = data['SalePrice'], x2=None, value=180000)\n",
    "\n",
    "print(\"P-value :\", float(pval))\n",
    "\n",
    "if pval < 0.5:\n",
    "    print(\"We reject the null hypothesis\")\n",
    "else:\n",
    "    print(\"We fail to reject the null hypothesis\")"
   ]
  },
  {
   "cell_type": "markdown",
   "id": "c45c3a8d-0250-490b-9da5-6286b173cb44",
   "metadata": {},
   "source": [
    "### Two-Sample Z-Test"
   ]
  },
  {
   "cell_type": "code",
   "execution_count": 9,
   "id": "9cc4d2db-0ad5-44f3-95a1-a7a8c1c4326b",
   "metadata": {},
   "outputs": [
    {
     "name": "stdout",
     "output_type": "stream",
     "text": [
      "P-value 1.0\n",
      "we accept null hypothesis\n"
     ]
    }
   ],
   "source": [
    "ztest, pval = stests.ztest(x1=data['1stFlrSF'], x2=data['2ndFlrSF'], value=0, alternative='smaller')\n",
    "\n",
    "print('P-value', pval)\n",
    "\n",
    "if pval <0.5:\n",
    "    print(\"we reject null hypothesis\")\n",
    "else:\n",
    "    print(\"we accept null hypothesis\")"
   ]
  },
  {
   "cell_type": "code",
   "execution_count": null,
   "id": "bdf0066e-0f89-4193-b4b2-83ac0c50c671",
   "metadata": {},
   "outputs": [],
   "source": []
  }
 ],
 "metadata": {
  "kernelspec": {
   "display_name": "Python 3 (ipykernel)",
   "language": "python",
   "name": "python3"
  },
  "language_info": {
   "codemirror_mode": {
    "name": "ipython",
    "version": 3
   },
   "file_extension": ".py",
   "mimetype": "text/x-python",
   "name": "python",
   "nbconvert_exporter": "python",
   "pygments_lexer": "ipython3",
   "version": "3.13.2"
  }
 },
 "nbformat": 4,
 "nbformat_minor": 5
}
